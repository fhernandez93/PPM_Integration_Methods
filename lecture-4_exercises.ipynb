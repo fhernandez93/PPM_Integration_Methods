{
 "cells": [
  {
   "cell_type": "markdown",
   "source": [
    "#### Paris Physics Master Numerical Methods -- Exercises Lecture 4"
   ],
   "metadata": {}
  },
  {
   "cell_type": "markdown",
   "source": [
    "- Name: Francisco Hernandez\n",
    "- Name: Octavio Guerrero"
   ],
   "metadata": {}
  },
  {
   "cell_type": "markdown",
   "source": [
    "Import modules and anything else you need"
   ],
   "metadata": {}
  },
  {
   "cell_type": "code",
   "execution_count": 4,
   "source": [
    "import numpy as np\n",
    "import matplotlib.pyplot as plt"
   ],
   "outputs": [],
   "metadata": {}
  },
  {
   "cell_type": "markdown",
   "source": [
    "## Deterministic methods of numerical integration"
   ],
   "metadata": {}
  },
  {
   "cell_type": "markdown",
   "source": [
    "### Simple qudrature rules"
   ],
   "metadata": {}
  },
  {
   "cell_type": "markdown",
   "source": [
    "In this exercise we are going to implement and investigate the errors of the integration rules seen in class.\n",
    "\n",
    "We will calculate the integral of the function:\n",
    "    $$ f(x) = x^2 \\exp{(-x^2)}   $$\n",
    "over the intervals $[0,1]$ and $[0,3]$\n",
    "\n",
    "In terms of the error function the integral above is given by:\n",
    "$$ \\int_0^x f(x')dx' = \\frac{1}{4} \\left(\\sqrt{\\pi } \\;\\text{erf}(x)-2 e^{-x^2} x\\right) $$\n",
    "  \n",
    "the numerical values of the integral for the two intervals are (as  calculated using `MATHEMATICA`)\n",
    "$$0.1894723458204922$$ \n",
    "and \n",
    "$$0.4429185594236305$$\n",
    "\n"
   ],
   "metadata": {}
  },
  {
   "cell_type": "markdown",
   "source": [
    "Let's begin by defining the function\n",
    "$$ f(x) = x^2 \\exp{(-x^2)}$$\n",
    "and a function to calculate the abolute error\n",
    "```python\n",
    "def abs_error(numerical_value, actual_value):\n",
    "    ...   \n",
    "    return ...\n",
    "```"
   ],
   "metadata": {}
  },
  {
   "cell_type": "code",
   "execution_count": 5,
   "source": [
    "def f(x):\n",
    "    return (x**2 * np.exp(-x**2))\n",
    "\n",
    "def abs_error(numerical_value, actual_value):\n",
    "    return np.abs(actual_value - numerical_value)\n"
   ],
   "outputs": [],
   "metadata": {}
  },
  {
   "cell_type": "markdown",
   "source": [
    "Plot the function $f(x)$ over the interval $[0,4]$ and label the axes"
   ],
   "metadata": {}
  },
  {
   "cell_type": "code",
   "execution_count": 133,
   "source": [
    "plt.plot(np.linspace(0,4, 100),np.array([f(n) for n in np.linspace(0,4, 100)]))\n",
    "plt.xlabel(\"value\")\n",
    "plt.ylabel(\"f(x)\")\n",
    "plt.show()"
   ],
   "outputs": [
    {
     "output_type": "display_data",
     "data": {
      "image/png": "[encoded data removed]",
      "text/plain": [
       "<Figure size 432x288 with 1 Axes>"
      ]
     },
     "metadata": {
      "needs_background": "light"
     }
    }
   ],
   "metadata": {}
  },
  {
   "cell_type": "markdown",
   "source": [
    "Implement the left, right, mid-point, trapezoidal and Simpson's rules and test them on a simple, analytical integral"
   ],
   "metadata": {}
  },
  {
   "cell_type": "code",
   "execution_count": 6,
   "source": [
    "def parabole(x):\n",
    "    return x**2\n",
    "\n",
    "\n",
    "def left_method(interval, function,n):\n",
    "    h = (interval[1]- interval[0])/n\n",
    "    return h*(np.sum(np.array([function(interval[0] + i * h) for i in range(n)])))\n",
    "\n",
    "\n",
    "def right_method(interval, function,n):\n",
    "    h = (interval[1]- interval[0])/n\n",
    "    return h*(np.sum(np.array([function(interval[0] + i * h) for i in range(1,n+1)])))\n",
    "\n",
    "def mid_point(interval, function,n):\n",
    "    h = (interval[1]- interval[0])/n\n",
    "    return h*(np.sum(np.array([function((interval[0] + (i-1) * h + interval[0] + i * h)/2) for i in range(1,n+1)])))\n",
    "\n",
    "def trapezoidal_method(interval, function,n):\n",
    "    a = interval[0]\n",
    "    b = interval[1]\n",
    "    h = (b-a)/n\n",
    "    return h*((function(a) + function(b))/2 + np.sum(np.array([function((a + i * h)) for i in range(1,n)])))\n",
    "\n",
    "def simpson_method(interval, function,n):\n",
    "   \n",
    "    a = interval[0]\n",
    "    b = interval[1]\n",
    "    h = (b-a)/n\n",
    "    return 2*h/3 * np.sum([function((a + (i-1) * h + a + i * h)/2) for i in range(1,n+1)]) + h/3 * np.sum([(function(a + (i-1)* h) + function(a + i * h))/2 for i in range(1,n+1)])\n",
    "   \n",
    "\n",
    "\n",
    "\n",
    "print(left_method([-1,1], parabole, 1000))\n",
    "print(right_method([-1,1], parabole, 1000))\n",
    "print(mid_point([-1,1], parabole, 1000))\n",
    "print(trapezoidal_method([-1,1], parabole, 1000))\n",
    "print(simpson_method([-1,1], parabole, 1000))\n",
    "\n",
    "\n"
   ],
   "outputs": [
    {
     "output_type": "stream",
     "name": "stdout",
     "text": [
      "0.666668\n",
      "0.666668\n",
      "0.666666\n",
      "0.666668\n",
      "0.6666666666666666\n"
     ]
    }
   ],
   "metadata": {}
  },
  {
   "cell_type": "markdown",
   "source": [
    "For each of the five rules, calculate the integral of the function:\n",
    "    $$ f(x) = x^2 \\exp{(-x^2)}   $$\n",
    "over the interval $[0,1]$ and $[0,3]$ with 100 sub-intervals\n",
    "\n",
    "Calculate the absolute errors and comment the results"
   ],
   "metadata": {}
  },
  {
   "cell_type": "code",
   "execution_count": 135,
   "source": [
    "print(\"Left method: interval [0,1]: \",left_method([0,1], f, 1000),\" interval [0,3]: \",left_method([0,3], f, 1000))\n",
    "print(\"Right method: interval [0,1]: \",right_method([0,1], f, 1000),\" interval [0,3]: \",right_method([0,3], f, 1000))\n",
    "print(\"Mid point method: interval [0,1]: \",mid_point([0,1], f, 1000),\" interval [0,3]: \",mid_point([0,3], f, 1000))\n",
    "print(\"Trapezoidal method: interval [0,1]: \",trapezoidal_method([0,1], f, 1000),\" interval [0,3]: \",trapezoidal_method([0,3], f, 1000))\n",
    "print(\"Simpson method: interval [0,1]: \",simpson_method([0,1], f, 1000),\" interval [0,3]: \",simpson_method([0,3], f, 1000))\n"
   ],
   "outputs": [
    {
     "output_type": "stream",
     "name": "stdout",
     "text": [
      "Left method: interval [0,1]:  0.1892884060999046  interval [0,3]:  0.44291688894853704\n",
      "Right method: interval [0,1]:  0.18965628554107603  interval [0,3]:  0.4429202210132474\n",
      "Mid point method: interval [0,1]:  0.18947234582049416  interval [0,3]:  0.4429185616449944\n",
      "Trapezoidal method: interval [0,1]:  0.18947234582049033  interval [0,3]:  0.4429185549808922\n",
      "Simpson method: interval [0,1]:  0.18947234582049288  interval [0,3]:  0.44291855942362696\n"
     ]
    }
   ],
   "metadata": {}
  },
  {
   "cell_type": "markdown",
   "source": [
    "We are now going to focus on the integration interval $[0,3]$ and compare the absolute error of the 5 rules for an increasing number of sub-intervals $n$ (go up to $n=10000$).\n",
    "\n",
    "Plot your results (error versus number of sub-intervals) and comment."
   ],
   "metadata": {}
  },
  {
   "cell_type": "code",
   "execution_count": 138,
   "source": [
    "values_left = np.array([left_method([0,3], f, n) for n in range(1000,10001)])\n",
    "error_left_values = np.array([abs_error(i,0.4429185594236305) for i in values_left])"
   ],
   "outputs": [],
   "metadata": {
    "scrolled": true
   }
  },
  {
   "cell_type": "code",
   "execution_count": 139,
   "source": [
    "values_right = np.array([right_method([0,3], f, n) for n in range(1000,10001)])\n",
    "error_right_values = np.array([abs_error(i,0.4429185594236305) for i in values_right])"
   ],
   "outputs": [],
   "metadata": {}
  },
  {
   "cell_type": "code",
   "execution_count": 140,
   "source": [
    "values_mid_point = np.array([mid_point([0,3], f, n) for n in range(1000,10001)])\n",
    "error_mid_point_values = np.array([abs_error(i,0.4429185594236305) for i in values_mid_point])"
   ],
   "outputs": [],
   "metadata": {}
  },
  {
   "cell_type": "code",
   "execution_count": 141,
   "source": [
    "values_trapezoidal_method = np.array([trapezoidal_method([0,3], f, n) for n in range(1000,10001)])\n",
    "error_trapezoidal_method_values = np.array([abs_error(i,0.4429185594236305) for i in values_trapezoidal_method])"
   ],
   "outputs": [],
   "metadata": {}
  },
  {
   "cell_type": "code",
   "execution_count": 151,
   "source": [
    "values_simpson_method = np.array([simpson_method([0,3], f, n) for n in range(1000,10001)])\n",
    "error_simpson_method_values = np.array([np.float64(abs_error(i,0.4429185594236305)) for i in values_simpson_method])\n",
    "#Let's plot this to see the particular behavior. Seems that it becomes noisy for n>1000\n",
    "plt.loglog(np.arange(1000,10001), error_simpson_method_values,\"*\")\n",
    "plt.show()"
   ],
   "outputs": [
    {
     "output_type": "display_data",
     "data": {
      "image/png": "[encoded data removed]",
      "text/plain": [
       "<Figure size 432x288 with 1 Axes>"
      ]
     },
     "metadata": {
      "needs_background": "light"
     }
    }
   ],
   "metadata": {}
  },
  {
   "cell_type": "markdown",
   "source": [
    "It is expected that the error depends on the number of sub-intervals $n$ as\n",
    "    $$ \\epsilon \\propto \\frac{1}{n^\\alpha} $$\n",
    "\n",
    "Using linear regression, determine the value of $\\alpha$ for each of the rules.\n",
    "\n",
    "Comment your work and results, and do not forget to label your plots."
   ],
   "metadata": {}
  },
  {
   "cell_type": "code",
   "execution_count": 7,
   "source": [
    "#Define functions\n",
    "def lin_reg(data1, data2):\n",
    "\n",
    "    x_mean= np.mean(data1)\n",
    "    y_mean = np.mean(data2)\n",
    "\n",
    "    sum_1 = np.sum(data1*data2) - (data1.size * x_mean * y_mean)\n",
    "\n",
    "    sum_2 = np.sum(data1**2) - (data1.size*x_mean**2)\n",
    "\n",
    "    a1 = sum_1/sum_2\n",
    "    a0 = y_mean - a1*x_mean\n",
    "\n",
    "    return (a0,a1)\n",
    "\n",
    "test_values = np.arange(1000,10001)\n",
    "\n"
   ],
   "outputs": [],
   "metadata": {}
  },
  {
   "cell_type": "code",
   "execution_count": 143,
   "source": [
    "#Left Method fitting\n",
    "linear_values_left = lin_reg(np.log(test_values),np.log(error_left_values))\n",
    "plt.loglog(test_values,error_left_values,\"*r\")\n",
    "plt.loglog(test_values,np.exp(linear_values_left[0])*(test_values**linear_values_left[1]))\n",
    "plt.show()\n",
    "print((linear_values_left))"
   ],
   "outputs": [
    {
     "output_type": "display_data",
     "data": {
      "image/png": "[encoded data removed]",
      "text/plain": [
       "<Figure size 432x288 with 1 Axes>"
      ]
     },
     "metadata": {
      "needs_background": "light"
     }
    },
    {
     "output_type": "stream",
     "name": "stdout",
     "text": [
      "(-6.389826571910849, -1.000803408146725)\n"
     ]
    }
   ],
   "metadata": {}
  },
  {
   "cell_type": "code",
   "execution_count": 144,
   "source": [
    "#Right Method fitting\n",
    "\n",
    "linear_values_right = lin_reg(np.log(test_values),np.log(error_right_values))\n",
    "plt.loglog(test_values,error_right_values, '*y')\n",
    "plt.loglog(test_values,np.exp(linear_values_right[0])*(test_values**linear_values_right[1]))\n",
    "plt.show()\n",
    "print(linear_values_right)"
   ],
   "outputs": [
    {
     "output_type": "display_data",
     "data": {
      "image/png": "[encoded data removed]",
      "text/plain": [
       "<Figure size 432x288 with 1 Axes>"
      ]
     },
     "metadata": {
      "needs_background": "light"
     }
    },
    {
     "output_type": "stream",
     "name": "stdout",
     "text": [
      "(-6.404808967039294, -0.9991949147711029)\n"
     ]
    }
   ],
   "metadata": {}
  },
  {
   "cell_type": "code",
   "execution_count": 147,
   "source": [
    "#Mid point Method fitting\n",
    "\n",
    "linear_values_mid_point = lin_reg(np.log(test_values),np.log(error_mid_point_values))\n",
    "plt.loglog(test_values,error_mid_point_values, '*c')\n",
    "plt.loglog(test_values,np.exp(linear_values_mid_point[0])*(test_values**linear_values_mid_point[1]))\n",
    "plt.show()\n",
    "print(linear_values_mid_point)"
   ],
   "outputs": [
    {
     "output_type": "display_data",
     "data": {
      "image/png": "[encoded data removed]",
      "text/plain": [
       "<Figure size 432x288 with 1 Axes>"
      ]
     },
     "metadata": {
      "needs_background": "light"
     }
    },
    {
     "output_type": "stream",
     "name": "stdout",
     "text": [
      "(-6.109653646910111, -1.9999968927055116)\n"
     ]
    }
   ],
   "metadata": {}
  },
  {
   "cell_type": "code",
   "execution_count": 148,
   "source": [
    "#Trapezoid Method fitting\n",
    "\n",
    "linear_values_trapezoidal = lin_reg(np.log(test_values),np.log(error_trapezoidal_method_values))\n",
    "plt.loglog(test_values,error_trapezoidal_method_values, '*y')\n",
    "plt.loglog(test_values,np.exp(linear_values_trapezoidal[0])*(test_values**linear_values_trapezoidal[1]))\n",
    "plt.show()\n",
    "print(linear_values_trapezoidal)"
   ],
   "outputs": [
    {
     "output_type": "display_data",
     "data": {
      "image/png": "[encoded data removed]",
      "text/plain": [
       "<Figure size 432x288 with 1 Axes>"
      ]
     },
     "metadata": {
      "needs_background": "light"
     }
    },
    {
     "output_type": "stream",
     "name": "stdout",
     "text": [
      "(-5.416483089468809, -1.999999872515285)\n"
     ]
    }
   ],
   "metadata": {}
  },
  {
   "cell_type": "code",
   "execution_count": 149,
   "source": [
    "no_noise_values_simpson_method = np.array([simpson_method([0,3], f, n) for n in range(100,1001)])\n",
    "no_noise_error_simpson_method_values = np.array([(abs_error(i,0.4429185594236305)) for i in no_noise_values_simpson_method])\n",
    "test_values2 = np.arange(100,1001)\n",
    "#Simpson Method fitting. We're only fittng values for n<1000, so we avoid the noisy part. \n",
    "x = np.log(test_values2)\n",
    "y = np.log(no_noise_error_simpson_method_values)\n",
    "linear_values_simpson = lin_reg(x,y)\n",
    "plt.loglog(test_values2,no_noise_error_simpson_method_values, '*y')\n",
    "plt.loglog(test_values2,np.exp((linear_values_simpson[0]))*(test_values2**linear_values_simpson[1]))\n",
    "plt.show()\n",
    "print(linear_values_simpson)"
   ],
   "outputs": [
    {
     "output_type": "display_data",
     "data": {
      "image/png": "[encoded data removed]",
      "text/plain": [
       "<Figure size 432x288 with 1 Axes>"
      ]
     },
     "metadata": {
      "needs_background": "light"
     }
    },
    {
     "output_type": "stream",
     "name": "stdout",
     "text": [
      "(-5.575006567624502, -4.008204006778886)\n"
     ]
    }
   ],
   "metadata": {}
  },
  {
   "cell_type": "markdown",
   "source": [
    "## Improper integrals"
   ],
   "metadata": {}
  },
  {
   "cell_type": "markdown",
   "source": [
    "Integrate the improper integral  for $x = 1$\n",
    "$$ \\int_{-\\infty}^x \\frac{1}{\\sqrt{2 \\pi}} \\exp{(-x^2/2)} \\; dx  $$\n"
   ],
   "metadata": {}
  },
  {
   "cell_type": "code",
   "execution_count": 150,
   "source": [
    "#Split the integral and change variable \n",
    "\n",
    "def original_function(x):\n",
    "    return 1/np.sqrt(2*np.pi)*np.exp(-(x**2)/2)\n",
    "\n",
    "def changed_function(x):\n",
    "    return 1/np.sqrt(np.pi) * np.exp(-1/x**2)/x**2\n",
    "\n",
    "\n",
    "integral_result1 = left_method([-1,1],original_function,1000)\n",
    "integral_result2 = left_method([-np.sqrt(2),0],changed_function,1000)\n",
    "print(\"Integral result: \",integral_result1 + integral_result2, \" Wolfram result: 0.8413447\") \n",
    "print(\"Absolut error: \", abs_error(integral_result1 + integral_result2, 0.8413447))\n",
    "\n"
   ],
   "outputs": [
    {
     "output_type": "stream",
     "name": "stdout",
     "text": [
      "Integral result:  0.8414655499527343  Wolfram result: 0.8413447\n",
      "Absolut error:  0.00012084995273431431\n"
     ]
    }
   ],
   "metadata": {}
  },
  {
   "cell_type": "markdown",
   "source": [
    "## Monte Carlo Integration"
   ],
   "metadata": {}
  },
  {
   "cell_type": "markdown",
   "source": [
    "In this exercise you are going to:\n",
    "\n",
    "- implement a Monte Carlo integration routine \n",
    "- find the integral of $f(x)=x^2$ over the interval $[-2,2]$ \n",
    "- study the dependence of the absolute error on the number of samples."
   ],
   "metadata": {}
  },
  {
   "cell_type": "markdown",
   "source": [
    "Define the function $f(x) and a function `montecarlo` that returns the integral.\n",
    "\n",
    "```python\n",
    "def montecarlo(f,a,b,n):\n",
    "    \"\"\"f is function to integrate over the interval [a,b] with n random points\"\"\"\n",
    "    ...\n",
    "    ...\n",
    "    return I\n",
    "```"
   ],
   "metadata": {}
  },
  {
   "cell_type": "code",
   "execution_count": 8,
   "source": [
    "def montecarlo(f,a,b,n):\n",
    "    random_points = np.random.uniform(a,b,n)\n",
    "    sample_mean = np.mean([f(random_points)])\n",
    "    return (b-a)*sample_mean\n"
   ],
   "outputs": [],
   "metadata": {}
  },
  {
   "cell_type": "markdown",
   "source": [
    "Calculate the integral and the absolute error, do the same integral with one of the methods you developed earlier. Compare and comment your results."
   ],
   "metadata": {}
  },
  {
   "cell_type": "code",
   "execution_count": 9,
   "source": [
    "I_Montecarlo = montecarlo(parabole,-2,2,10000)\n",
    "I_simpson = simpson_method([-2,2],parabole,10000)\n",
    "print(\"Montecarlo I=\",I_Montecarlo,\" ActualValue:16/3 Absolut error:\",abs_error(I_Montecarlo,16/3))\n",
    "print(\"Simpson I=\",I_simpson,\" ActualValue:16/3 Absolut error:\",abs_error(I_simpson,16/3))\n"
   ],
   "outputs": [
    {
     "output_type": "stream",
     "name": "stdout",
     "text": [
      "Montecarlo I= 5.350405335660659  ActualValue:16/3 Absolut error: 0.01707200232732564\n",
      "Simpson I= 5.333333333333334  ActualValue:16/3 Absolut error: 8.881784197001252e-16\n"
     ]
    }
   ],
   "metadata": {}
  },
  {
   "cell_type": "markdown",
   "source": [
    "Study the dependence of the absolute error on the number of random samples $n$ with $n=10\\dots10^4$\n",
    "\n",
    "- For each value of $n$ calculate the integral $N=100$ times and take the mean value $\\left< I(n)\\right>$.\n",
    "- Calculate the absolute error with respect to this mean, plot it as a function of $n$.\n",
    "- Fit the data and remember that the error is expected to be\n",
    "    $$E \\sim \\frac{1}{\\sqrt{n}}$$\n",
    "    \n",
    "- For $N=1000$ and $n=1000$, plot the probability distribution function of $\\left< I(n)\\right>$. Comment. "
   ],
   "metadata": {}
  },
  {
   "cell_type": "code",
   "execution_count": null,
   "source": [
    "def integral_array(n):\n",
    "    integral_array = np.array([i*0 + montecarlo(parabole,-2,2,n) for i in range(100)])\n",
    "    return integral_array\n",
    "\n",
    "#Be careful running this one, for it could take really long time if your machine doesn't have enough power. For reference, it took about 1050 seconds on a M1 processor. \n",
    "testing_n = np.arange(10,10000)\n",
    "integral_mean_array = np.array([np.mean(integral_array(j)) for j in testing_n]) "
   ],
   "outputs": [],
   "metadata": {}
  },
  {
   "cell_type": "code",
   "execution_count": 152,
   "source": [
    "integral_error_abs = np.array([abs_error(k,16/3) for k in integral_mean_array])\n",
    "##############Fitting and plotting#############################\n",
    "fit_values = lin_reg(np.log(testing_n),np.log(integral_error_abs))\n",
    "plt.loglog(testing_n, integral_error_abs, \"*r\")\n",
    "plt.loglog(testing_n,np.exp((fit_values[0]))*(testing_n**fit_values[1]))\n",
    "fit_values"
   ],
   "outputs": [
    {
     "output_type": "execute_result",
     "data": {
      "text/plain": [
       "(-1.4265655758504918, -0.49529061209685876)"
      ]
     },
     "metadata": {},
     "execution_count": 152
    },
    {
     "output_type": "display_data",
     "data": {
      "image/png": "[encoded data removed]",
      "text/plain": [
       "<Figure size 432x288 with 1 Axes>"
      ]
     },
     "metadata": {
      "needs_background": "light"
     }
    }
   ],
   "metadata": {}
  },
  {
   "cell_type": "code",
   "execution_count": null,
   "source": [],
   "outputs": [],
   "metadata": {}
  }
 ],
 "metadata": {
  "kernelspec": {
   "name": "python3",
   "display_name": "Python 3.9.6 64-bit"
  },
  "language_info": {
   "codemirror_mode": {
    "name": "ipython",
    "version": 3
   },
   "file_extension": ".py",
   "mimetype": "text/x-python",
   "name": "python",
   "nbconvert_exporter": "python",
   "pygments_lexer": "ipython3",
   "version": "3.9.6"
  },
  "toc": {
   "base_numbering": 1,
   "nav_menu": {
    "height": "167px",
    "width": "444px"
   },
   "number_sections": true,
   "sideBar": true,
   "skip_h1_title": false,
   "title_cell": "Table of Contents",
   "title_sidebar": "Contents",
   "toc_cell": false,
   "toc_position": {},
   "toc_section_display": true,
   "toc_window_display": false
  },
  "varInspector": {
   "cols": {
    "lenName": 16,
    "lenType": 16,
    "lenVar": 40
   },
   "kernels_config": {
    "python": {
     "delete_cmd_postfix": "",
     "delete_cmd_prefix": "del ",
     "library": "var_list.py",
     "varRefreshCmd": "print(var_dic_list())"
    },
    "r": {
     "delete_cmd_postfix": ") ",
     "delete_cmd_prefix": "rm(",
     "library": "var_list.r",
     "varRefreshCmd": "cat(var_dic_list()) "
    }
   },
   "types_to_exclude": [
    "module",
    "function",
    "builtin_function_or_method",
    "instance",
    "_Feature"
   ],
   "window_display": false
  },
  "interpreter": {
   "hash": "aee8b7b246df8f9039afb4144a1f6fd8d2ca17a180786b69acc140d282b71a49"
  }
 },
 "nbformat": 4,
 "nbformat_minor": 2
}