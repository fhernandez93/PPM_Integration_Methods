{
 "cells": [
  {
   "cell_type": "markdown",
   "metadata": {},
   "source": [
    "#### Paris Physics Master Numerical Methods -- Exercises Lecture 4"
   ]
  },
  {
   "cell_type": "markdown",
   "metadata": {},
   "source": [
    "- Name:\n",
    "- Name:"
   ]
  },
  {
   "cell_type": "markdown",
   "metadata": {},
   "source": [
    "Import modules and anything else you need"
   ]
  },
  {
   "cell_type": "code",
   "execution_count": null,
   "metadata": {},
   "outputs": [],
   "source": []
  },
  {
   "cell_type": "markdown",
   "metadata": {},
   "source": [
    "## Deterministic methods of numerical integration"
   ]
  },
  {
   "cell_type": "markdown",
   "metadata": {},
   "source": [
    "### Simple qudrature rules"
   ]
  },
  {
   "cell_type": "markdown",
   "metadata": {},
   "source": [
    "In this exercise we are going to implement and investigate the errors of the integration rules seen in class.\n",
    "\n",
    "We will calculate the integral of the function:\n",
    "    $$ f(x) = x^2 \\exp{(-x^2)}   $$\n",
    "over the intervals $[0,1]$ and $[0,3]$\n",
    "\n",
    "In terms of the error function the integral above is given by:\n",
    "$$ \\int_0^x f(x')dx' = \\frac{1}{4} \\left(\\sqrt{\\pi } \\;\\text{erf}(x)-2 e^{-x^2} x\\right) $$\n",
    "  \n",
    "the numerical values of the integral for the two intervals are (as  calculated using `MATHEMATICA`)\n",
    "$$0.1894723458204922$$ and $$0.4429185594236305$$\n",
    "\n"
   ]
  },
  {
   "cell_type": "markdown",
   "metadata": {},
   "source": [
    "Let's begin by defining the function\n",
    "$$ f(x) = x^2 \\exp{(-x^2)}$$\n",
    "and a function to calculate the abolute error\n",
    "```python\n",
    "def abs_error(numerical_value, actual_value):\n",
    "    ...   \n",
    "    return ...\n",
    "```"
   ]
  },
  {
   "cell_type": "code",
   "execution_count": null,
   "metadata": {},
   "outputs": [],
   "source": []
  },
  {
   "cell_type": "markdown",
   "metadata": {},
   "source": [
    "Plot the function $f(x)$ over the interval $[0,4]$ and label the axes"
   ]
  },
  {
   "cell_type": "code",
   "execution_count": null,
   "metadata": {},
   "outputs": [],
   "source": []
  },
  {
   "cell_type": "markdown",
   "metadata": {},
   "source": [
    "Implement the left, right, mid-point, trapezoidal and Simpson's rules and test them on a simple, analytical integral"
   ]
  },
  {
   "cell_type": "code",
   "execution_count": null,
   "metadata": {},
   "outputs": [],
   "source": []
  },
  {
   "cell_type": "markdown",
   "metadata": {},
   "source": [
    "For each of the five rules, calculate the integral of the function:\n",
    "    $$ f(x) = x^2 \\exp{(-x^2)}   $$\n",
    "over the interval $[0,1]$ and $[0,3]$ with 100 sub-intervals\n",
    "\n",
    "Calculate the absolute errors and comment the results"
   ]
  },
  {
   "cell_type": "code",
   "execution_count": null,
   "metadata": {},
   "outputs": [],
   "source": []
  },
  {
   "cell_type": "markdown",
   "metadata": {},
   "source": [
    "We are now going to focus on the integration interval $[0,3]$ and compare the absolute error of the 5 rules for an increasing number of sub-intervals $n$ (go up to $n=10000$).\n",
    "\n",
    "Plot your results (error versus number of sub-intervals) and comment."
   ]
  },
  {
   "cell_type": "code",
   "execution_count": null,
   "metadata": {
    "scrolled": true
   },
   "outputs": [],
   "source": []
  },
  {
   "cell_type": "markdown",
   "metadata": {},
   "source": [
    "It is expected that the error depends on the number of sub-intervals $n$ as\n",
    "    $$ \\epsilon \\propto \\frac{1}{n^\\alpha} $$\n",
    "\n",
    "Using linear regression, determine the value of $\\alpha$ for each of the rules.\n",
    "\n",
    "Comment your work and results, and do not forget to label your plots."
   ]
  },
  {
   "cell_type": "code",
   "execution_count": null,
   "metadata": {},
   "outputs": [],
   "source": []
  },
  {
   "cell_type": "markdown",
   "metadata": {},
   "source": [
    "## Improper integrals"
   ]
  },
  {
   "cell_type": "markdown",
   "metadata": {},
   "source": [
    "Integrate the improper integral  for $x = 1$\n",
    "$$ \\int_{-\\infty}^x \\frac{1}{\\sqrt{2 \\pi}} \\exp{(-x^2/2)} \\; dx  $$\n"
   ]
  },
  {
   "cell_type": "code",
   "execution_count": null,
   "metadata": {},
   "outputs": [],
   "source": []
  },
  {
   "cell_type": "markdown",
   "metadata": {},
   "source": [
    "## Monte Carlo Integration"
   ]
  },
  {
   "cell_type": "markdown",
   "metadata": {},
   "source": [
    "In this exercise you are going to:\n",
    "\n",
    "- implement a Monte Carlo integration routine \n",
    "- find the integral of $f(x)=x^2$ over the interval $[-2,2]$ \n",
    "- study the dependence of the absolute error on the number of samples."
   ]
  },
  {
   "cell_type": "markdown",
   "metadata": {},
   "source": [
    "Define the function $f(x) and a function `montecarlo` that returns the integral.\n",
    "\n",
    "```python\n",
    "def montecarlo(f,a,b,n):\n",
    "    \"\"\"f is function to integrate over the interval [a,b] with n random points\"\"\"\n",
    "    ...\n",
    "    ...\n",
    "    return I\n",
    "```"
   ]
  },
  {
   "cell_type": "code",
   "execution_count": null,
   "metadata": {},
   "outputs": [],
   "source": []
  },
  {
   "cell_type": "markdown",
   "metadata": {},
   "source": [
    "Calculate the integral and the absolute error, do the same integral with one of the methods you developed earlier. Compare and comment your results."
   ]
  },
  {
   "cell_type": "code",
   "execution_count": null,
   "metadata": {},
   "outputs": [],
   "source": []
  },
  {
   "cell_type": "markdown",
   "metadata": {},
   "source": [
    "Study the dependence of the absolute error on the number of random samples $n$ with $n=10\\dots10^4$\n",
    "\n",
    "- For each value of $n$ calculate the integral $N=100$ times and take the mean value $\\left< I(n)\\right>$.\n",
    "- Calculate the absolute error with respect to this mean, plot it as a function of $n$.\n",
    "- Fit the data and remember that the error is expected to be\n",
    "    $$E \\sim \\frac{1}{\\sqrt{n}}$$\n",
    "    \n",
    "- For $N=1000$ and $n=1000$, plot the probability distribution function of $\\left< I(n)\\right>$. Comment. "
   ]
  },
  {
   "cell_type": "code",
   "execution_count": null,
   "metadata": {},
   "outputs": [],
   "source": []
  }
 ],
 "metadata": {
  "kernelspec": {
   "display_name": "Python 3",
   "language": "python",
   "name": "python3"
  },
  "language_info": {
   "codemirror_mode": {
    "name": "ipython",
    "version": 3
   },
   "file_extension": ".py",
   "mimetype": "text/x-python",
   "name": "python",
   "nbconvert_exporter": "python",
   "pygments_lexer": "ipython3",
   "version": "3.5.3"
  },
  "toc": {
   "base_numbering": 1,
   "nav_menu": {
    "height": "167px",
    "width": "444px"
   },
   "number_sections": true,
   "sideBar": true,
   "skip_h1_title": false,
   "title_cell": "Table of Contents",
   "title_sidebar": "Contents",
   "toc_cell": false,
   "toc_position": {},
   "toc_section_display": true,
   "toc_window_display": false
  },
  "varInspector": {
   "cols": {
    "lenName": 16,
    "lenType": 16,
    "lenVar": 40
   },
   "kernels_config": {
    "python": {
     "delete_cmd_postfix": "",
     "delete_cmd_prefix": "del ",
     "library": "var_list.py",
     "varRefreshCmd": "print(var_dic_list())"
    },
    "r": {
     "delete_cmd_postfix": ") ",
     "delete_cmd_prefix": "rm(",
     "library": "var_list.r",
     "varRefreshCmd": "cat(var_dic_list()) "
    }
   },
   "types_to_exclude": [
    "module",
    "function",
    "builtin_function_or_method",
    "instance",
    "_Feature"
   ],
   "window_display": false
  }
 },
 "nbformat": 4,
 "nbformat_minor": 2
}
